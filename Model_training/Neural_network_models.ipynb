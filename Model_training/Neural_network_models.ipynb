{
 "cells": [
  {
   "cell_type": "code",
   "execution_count": 67,
   "id": "2041813e-2caf-4e41-be0b-87a9d50682dc",
   "metadata": {},
   "outputs": [],
   "source": [
    "import pickle # to save models \n",
    "from sklearn.model_selection import train_test_split # to split data into traaining-testing sets\n",
    "from sklearn.metrics import accuracy_score # to measure model accuracy\n",
    "import numpy as np # to do calculations \n",
    "import matplotlib.pyplot as plt # to plot results\n",
    "from tensorflow import keras # to access neural networks settings \n",
    "\n",
    "from tensorflow.keras.models import Model, Sequential # to initialize model\n",
    "from tensorflow.keras.layers import Dense # to create dense layers\n",
    "from tensorflow.keras import optimizers # to access optimizers\n",
    "from tensorflow.keras.utils import to_categorical # to transform labels to categorical values"
   ]
  },
  {
   "cell_type": "code",
   "execution_count": 68,
   "id": "b6cf7d26-9064-4773-8288-b45ad683dbb3",
   "metadata": {},
   "outputs": [],
   "source": [
    "data_dict = pickle.load(open('data.pickle', 'rb')) # load one-hand data\n",
    "\n",
    "data = np.asarray(data_dict['data']) # extract data\n",
    "labels = np.asarray(data_dict['labels']) # extract labels"
   ]
  },
  {
   "cell_type": "code",
   "execution_count": 69,
   "id": "f36a516f-cde3-4e93-84a4-9a8e8aebd3cf",
   "metadata": {},
   "outputs": [],
   "source": [
    "labels_dict = {0: 'A', 1: 'B', 2: 'C', 3: 'D', 4: 'E', # use dict to encode an decode data\n",
    "               5: 'G', 6: 'H', 7: 'I', 8: 'J',\n",
    "               9: 'K', 10: 'L', 11: 'M', 12: 'N',\n",
    "               13: 'O', 14: 'P',\n",
    "               15: 'R', 16: 'S', 17: 'T', 18: 'U',\n",
    "               19: 'V', 20: 'W', 21: 'Y',\n",
    "               22: 'Z'}"
   ]
  },
  {
   "cell_type": "code",
   "execution_count": 70,
   "id": "e6e3de39-4c50-480d-876f-0e7f5658727d",
   "metadata": {},
   "outputs": [],
   "source": [
    "inverse_dict = {value: key for key, value in labels_dict.items()} # decoding data"
   ]
  },
  {
   "cell_type": "code",
   "execution_count": 71,
   "id": "47acf46a-3f88-46f9-9a17-f9e313a745a8",
   "metadata": {},
   "outputs": [],
   "source": [
    "mapped_list = [inverse_dict[value] for value in labels] # change leteers to encode number variable"
   ]
  },
  {
   "cell_type": "code",
   "execution_count": 72,
   "id": "04af21db-c397-4e93-b0f8-9946581d5edd",
   "metadata": {},
   "outputs": [],
   "source": [
    "labels_cat = to_categorical(mapped_list) # transfrom labels to categorical"
   ]
  },
  {
   "cell_type": "code",
   "execution_count": 73,
   "id": "83178039-52d0-4be8-be63-63561b03fd8a",
   "metadata": {},
   "outputs": [],
   "source": [
    "x_train, x_test, y_train, y_test = train_test_split(data, labels_cat, test_size=0.2, shuffle=True, stratify=labels) # split train-test (80 - 20)"
   ]
  },
  {
   "cell_type": "code",
   "execution_count": 74,
   "id": "3c7ff79e-c855-4514-a693-8dc77f5f77e0",
   "metadata": {},
   "outputs": [],
   "source": [
    "data_shape = x_train.shape[1:] # extract shape"
   ]
  },
  {
   "cell_type": "code",
   "execution_count": 75,
   "id": "d42c7c8a-76ad-42d0-a248-340f0f6a45a7",
   "metadata": {
    "tags": []
   },
   "outputs": [],
   "source": [
    "model_1 = Sequential([ # create model for one hand\n",
    "        Dense(42, activation='sigmoid', name = \"DenseLayer_1\", input_shape=data_shape), # just needed a 1 Dense layer\n",
    "        Dense(23, activation='softmax', name = \"Output\") # output layer\n",
    "])"
   ]
  },
  {
   "cell_type": "code",
   "execution_count": 76,
   "id": "e2750ae1-5a37-4655-a4ad-53e37f51e4b9",
   "metadata": {},
   "outputs": [
    {
     "name": "stdout",
     "output_type": "stream",
     "text": [
      "Model: \"sequential_4\"\n",
      "_________________________________________________________________\n",
      " Layer (type)                Output Shape              Param #   \n",
      "=================================================================\n",
      " DenseLayer_1 (Dense)        (None, 42)                1806      \n",
      "                                                                 \n",
      " Output (Dense)              (None, 23)                989       \n",
      "                                                                 \n",
      "=================================================================\n",
      "Total params: 2,795\n",
      "Trainable params: 2,795\n",
      "Non-trainable params: 0\n",
      "_________________________________________________________________\n"
     ]
    }
   ],
   "source": [
    "model_1.summary() # summarize model"
   ]
  },
  {
   "cell_type": "code",
   "execution_count": 77,
   "id": "308d6b3d-93a1-4924-b1af-eb290ec33687",
   "metadata": {},
   "outputs": [],
   "source": [
    "alpha = 1e-2 # learning rate\n",
    "opt =  keras.optimizers.Adam(learning_rate=alpha, weight_decay=1e-4) # compile optimizer\n",
    "model_1.compile(optimizer=opt, loss='categorical_crossentropy', metrics=['accuracy']) # compile model"
   ]
  },
  {
   "cell_type": "code",
   "execution_count": 78,
   "id": "ce64d91b-e641-4940-ac32-f09a20019561",
   "metadata": {},
   "outputs": [
    {
     "name": "stdout",
     "output_type": "stream",
     "text": [
      "Epoch 1/20\n",
      "276/276 [==============================] - 1s 2ms/step - loss: 2.1776 - accuracy: 0.3975 - val_loss: 1.1762 - val_accuracy: 0.7948\n",
      "Epoch 2/20\n",
      "276/276 [==============================] - 0s 1ms/step - loss: 0.7937 - accuracy: 0.8399 - val_loss: 0.5195 - val_accuracy: 0.9121\n",
      "Epoch 3/20\n",
      "276/276 [==============================] - 0s 1ms/step - loss: 0.3987 - accuracy: 0.9395 - val_loss: 0.3093 - val_accuracy: 0.9349\n",
      "Epoch 4/20\n",
      "276/276 [==============================] - 0s 1ms/step - loss: 0.2414 - accuracy: 0.9659 - val_loss: 0.1997 - val_accuracy: 0.9837\n",
      "Epoch 5/20\n",
      "276/276 [==============================] - 0s 985us/step - loss: 0.1643 - accuracy: 0.9815 - val_loss: 0.1364 - val_accuracy: 0.9837\n",
      "Epoch 6/20\n",
      "276/276 [==============================] - 0s 1ms/step - loss: 0.1203 - accuracy: 0.9848 - val_loss: 0.1096 - val_accuracy: 0.9837\n",
      "Epoch 7/20\n",
      "276/276 [==============================] - 0s 996us/step - loss: 0.0940 - accuracy: 0.9851 - val_loss: 0.1007 - val_accuracy: 0.9870\n",
      "Epoch 8/20\n",
      "276/276 [==============================] - 0s 1ms/step - loss: 0.0723 - accuracy: 0.9877 - val_loss: 0.0688 - val_accuracy: 0.9902\n",
      "Epoch 9/20\n",
      "276/276 [==============================] - 0s 1ms/step - loss: 0.0590 - accuracy: 0.9909 - val_loss: 0.0699 - val_accuracy: 0.9902\n",
      "Epoch 10/20\n",
      "276/276 [==============================] - 0s 1ms/step - loss: 0.0519 - accuracy: 0.9917 - val_loss: 0.0622 - val_accuracy: 0.9902\n",
      "Epoch 11/20\n",
      "276/276 [==============================] - 0s 1ms/step - loss: 0.0432 - accuracy: 0.9920 - val_loss: 0.0477 - val_accuracy: 0.9902\n",
      "Epoch 12/20\n",
      "276/276 [==============================] - 0s 1ms/step - loss: 0.0399 - accuracy: 0.9931 - val_loss: 0.0395 - val_accuracy: 0.9935\n",
      "Epoch 13/20\n",
      "276/276 [==============================] - 0s 1ms/step - loss: 0.0350 - accuracy: 0.9920 - val_loss: 0.0369 - val_accuracy: 0.9935\n",
      "Epoch 14/20\n",
      "276/276 [==============================] - 0s 1ms/step - loss: 0.0319 - accuracy: 0.9913 - val_loss: 0.0368 - val_accuracy: 0.9967\n",
      "Epoch 15/20\n",
      "276/276 [==============================] - 0s 1ms/step - loss: 0.0267 - accuracy: 0.9949 - val_loss: 0.0292 - val_accuracy: 0.9935\n",
      "Epoch 16/20\n",
      "276/276 [==============================] - 0s 1ms/step - loss: 0.0233 - accuracy: 0.9964 - val_loss: 0.0388 - val_accuracy: 0.9870\n",
      "Epoch 17/20\n",
      "276/276 [==============================] - 0s 1ms/step - loss: 0.0239 - accuracy: 0.9935 - val_loss: 0.0250 - val_accuracy: 0.9935\n",
      "Epoch 18/20\n",
      "276/276 [==============================] - 0s 1ms/step - loss: 0.0188 - accuracy: 0.9960 - val_loss: 0.0247 - val_accuracy: 0.9935\n",
      "Epoch 19/20\n",
      "276/276 [==============================] - 0s 1ms/step - loss: 0.0175 - accuracy: 0.9964 - val_loss: 0.0237 - val_accuracy: 0.9935\n",
      "Epoch 20/20\n",
      "276/276 [==============================] - 0s 1ms/step - loss: 0.0159 - accuracy: 0.9967 - val_loss: 0.0265 - val_accuracy: 0.9902\n"
     ]
    }
   ],
   "source": [
    "history = model_1.fit(x_train, y_train, epochs=20, batch_size=10, validation_split=0.10) # train the model"
   ]
  },
  {
   "cell_type": "code",
   "execution_count": 79,
   "id": "3a38b9a1-3f38-46c2-99de-52fd0df43b49",
   "metadata": {},
   "outputs": [
    {
     "data": {
      "image/png": "[encoded data removed]",
      "text/plain": [
       "<Figure size 720x360 with 2 Axes>"
      ]
     },
     "metadata": {
      "needs_background": "light"
     },
     "output_type": "display_data"
    }
   ],
   "source": [
    "acc = history.history['accuracy'] # extract accuracy of every epoch\n",
    "val_acc = history.history['val_accuracy'] # extract validation_accuracy of every epoch\n",
    "loss = history.history['loss'] # extract loss of every epoch\n",
    "val_loss = history.history['val_loss'] # extract validation_loss of every epoch\n",
    "\n",
    "epochs = range(1, len(acc)+1)\n",
    "\n",
    "# plot results\n",
    "plt.figure(figsize=(10,5))\n",
    "plt.subplot(1,2,1)\n",
    "plt.plot(epochs, loss, 'bo', label='Training loss')\n",
    "plt.plot(epochs, val_loss, 'b', label='Validation loss')\n",
    "plt.title('Training and validation loss')\n",
    "plt.xlabel('Epochs')\n",
    "plt.ylabel('Loss')\n",
    "plt.legend()\n",
    "plt.subplot(1,2,2)\n",
    "plt.plot(epochs, acc, 'ro', label='Training accuracy')\n",
    "plt.plot(epochs, val_acc, 'r', label='Validation accuracy')\n",
    "plt.title('Training and validation accuracy')\n",
    "plt.xlabel('Epochs')\n",
    "plt.ylabel('Accuracy')\n",
    "plt.legend()\n",
    "plt.show()"
   ]
  },
  {
   "cell_type": "code",
   "execution_count": 80,
   "id": "27033ee4-cd7f-4702-9ccf-b50beb9fd35a",
   "metadata": {},
   "outputs": [
    {
     "name": "stdout",
     "output_type": "stream",
     "text": [
      "24/24 [==============================] - 0s 718us/step\n",
      "99.08735332464146% of samples were classified correctly !\n"
     ]
    }
   ],
   "source": [
    "y_predict = model_1.predict(x_test) # predict test set\n",
    "\n",
    "score = accuracy_score(y_predict.argmax(axis = 1), y_test.argmax(axis = 1)) # get accuracy of testing results\n",
    "\n",
    "print('{}% of samples were classified correctly !'.format(score * 100)) # results"
   ]
  },
  {
   "cell_type": "code",
   "execution_count": 81,
   "id": "3c4dc1c3-542e-4d7e-89d5-d95159d86f2d",
   "metadata": {},
   "outputs": [],
   "source": [
    "model_1.save(\"model_redes_one_hand.h5\") # svae model "
   ]
  },
  {
   "cell_type": "code",
   "execution_count": 82,
   "id": "e002415c-1f78-44cb-955d-d9a45a7f9b21",
   "metadata": {},
   "outputs": [],
   "source": [
    "data_dict_2 = pickle.load(open('data_dos_manos.pickle', 'rb')) # load two-hands data\n",
    "\n",
    "data = np.asarray(data_dict_2['data']) # extract data\n",
    "labels = np.asarray(data_dict_2['labels']) # extract labels"
   ]
  },
  {
   "cell_type": "code",
   "execution_count": 83,
   "id": "e1dfa963-f47e-4703-bb2a-619e8bb8e310",
   "metadata": {},
   "outputs": [],
   "source": [
    "labels_dict = {0: 'F', 1: 'Enie', 2: 'Q', 3: 'X'} # use dict to encode an decode data"
   ]
  },
  {
   "cell_type": "code",
   "execution_count": 84,
   "id": "ab6671b4-d8a8-4c11-a7bd-091cec085ccf",
   "metadata": {},
   "outputs": [],
   "source": [
    "inverse_dict = {value: key for key, value in labels_dict.items()} # decoding data"
   ]
  },
  {
   "cell_type": "code",
   "execution_count": 85,
   "id": "9d730cce-1510-46ff-b0e4-04ad538f3388",
   "metadata": {},
   "outputs": [],
   "source": [
    "mapped_list = [inverse_dict[value] for value in labels] # change leteers to encode number variable"
   ]
  },
  {
   "cell_type": "code",
   "execution_count": 86,
   "id": "76dd2384-dce5-4b29-a984-8b57a230247e",
   "metadata": {},
   "outputs": [],
   "source": [
    "labels_cat = to_categorical(mapped_list) # transfrom labels to categorical"
   ]
  },
  {
   "cell_type": "code",
   "execution_count": 87,
   "id": "3a19e501-73fa-4193-bdbc-5e326d0f5a80",
   "metadata": {},
   "outputs": [],
   "source": [
    "x_train, x_test, y_train, y_test = train_test_split(data, labels_cat, test_size=0.2, shuffle=True, stratify=labels) # split train-test (80 - 20)"
   ]
  },
  {
   "cell_type": "code",
   "execution_count": 88,
   "id": "7d617172-3f68-459f-a012-a66f3c91eb2f",
   "metadata": {},
   "outputs": [],
   "source": [
    "data_shape = x_train.shape[1:] # extract shape"
   ]
  },
  {
   "cell_type": "code",
   "execution_count": 89,
   "id": "51496315-32b0-476a-9c61-87096bdbbabf",
   "metadata": {},
   "outputs": [],
   "source": [
    "model_2 = Sequential([ # create model for two hands\n",
    "        Dense(10, activation='relu', input_shape=data_shape), # just needed a 1 Dense layer\n",
    "        Dense(4, activation='softmax', name = \"Output\") # output layer\n",
    "])"
   ]
  },
  {
   "cell_type": "code",
   "execution_count": 90,
   "id": "84184e4f-f733-4072-8126-d02c217bd6ed",
   "metadata": {},
   "outputs": [
    {
     "name": "stdout",
     "output_type": "stream",
     "text": [
      "Model: \"sequential_5\"\n",
      "_________________________________________________________________\n",
      " Layer (type)                Output Shape              Param #   \n",
      "=================================================================\n",
      " dense_2 (Dense)             (None, 10)                850       \n",
      "                                                                 \n",
      " Output (Dense)              (None, 4)                 44        \n",
      "                                                                 \n",
      "=================================================================\n",
      "Total params: 894\n",
      "Trainable params: 894\n",
      "Non-trainable params: 0\n",
      "_________________________________________________________________\n"
     ]
    }
   ],
   "source": [
    "model_2.summary() # summarize model"
   ]
  },
  {
   "cell_type": "code",
   "execution_count": 91,
   "id": "2d010922-6d4e-42ba-9079-9517c4659b05",
   "metadata": {},
   "outputs": [],
   "source": [
    "alpha = 9e-4 # learning rate\n",
    "opt =  keras.optimizers.Adam(learning_rate=alpha, weight_decay=1e-4) # compile optimizer\n",
    "model_2.compile(optimizer=opt, loss='categorical_crossentropy', metrics=['accuracy']) # compile model"
   ]
  },
  {
   "cell_type": "code",
   "execution_count": 92,
   "id": "80cc5b1a-f39a-4675-97a2-449d0f71db93",
   "metadata": {},
   "outputs": [
    {
     "name": "stdout",
     "output_type": "stream",
     "text": [
      "Epoch 1/20\n",
      "54/54 [==============================] - 1s 4ms/step - loss: 1.2690 - accuracy: 0.2737 - val_loss: 1.1906 - val_accuracy: 0.6833\n",
      "Epoch 2/20\n",
      "54/54 [==============================] - 0s 1ms/step - loss: 1.1004 - accuracy: 0.6127 - val_loss: 1.0212 - val_accuracy: 0.6333\n",
      "Epoch 3/20\n",
      "54/54 [==============================] - 0s 1ms/step - loss: 0.9623 - accuracy: 0.5829 - val_loss: 0.8761 - val_accuracy: 0.6333\n",
      "Epoch 4/20\n",
      "54/54 [==============================] - 0s 1ms/step - loss: 0.8448 - accuracy: 0.6369 - val_loss: 0.7585 - val_accuracy: 0.8500\n",
      "Epoch 5/20\n",
      "54/54 [==============================] - 0s 1ms/step - loss: 0.7417 - accuracy: 0.7784 - val_loss: 0.6569 - val_accuracy: 0.9000\n",
      "Epoch 6/20\n",
      "54/54 [==============================] - 0s 1ms/step - loss: 0.6536 - accuracy: 0.8026 - val_loss: 0.5704 - val_accuracy: 0.8667\n",
      "Epoch 7/20\n",
      "54/54 [==============================] - 0s 1ms/step - loss: 0.5706 - accuracy: 0.8045 - val_loss: 0.5010 - val_accuracy: 0.8833\n",
      "Epoch 8/20\n",
      "54/54 [==============================] - 0s 1ms/step - loss: 0.4991 - accuracy: 0.8063 - val_loss: 0.4355 - val_accuracy: 0.8833\n",
      "Epoch 9/20\n",
      "54/54 [==============================] - 0s 1ms/step - loss: 0.4357 - accuracy: 0.9143 - val_loss: 0.3829 - val_accuracy: 0.9333\n",
      "Epoch 10/20\n",
      "54/54 [==============================] - 0s 1ms/step - loss: 0.3812 - accuracy: 0.9479 - val_loss: 0.3377 - val_accuracy: 0.9333\n",
      "Epoch 11/20\n",
      "54/54 [==============================] - 0s 1ms/step - loss: 0.3333 - accuracy: 0.9441 - val_loss: 0.2961 - val_accuracy: 0.9333\n",
      "Epoch 12/20\n",
      "54/54 [==============================] - 0s 1ms/step - loss: 0.2916 - accuracy: 0.9534 - val_loss: 0.2640 - val_accuracy: 0.9333\n",
      "Epoch 13/20\n",
      "54/54 [==============================] - 0s 1ms/step - loss: 0.2555 - accuracy: 0.9628 - val_loss: 0.2355 - val_accuracy: 0.9333\n",
      "Epoch 14/20\n",
      "54/54 [==============================] - 0s 1ms/step - loss: 0.2236 - accuracy: 0.9683 - val_loss: 0.2142 - val_accuracy: 0.9333\n",
      "Epoch 15/20\n",
      "54/54 [==============================] - 0s 2ms/step - loss: 0.1972 - accuracy: 0.9795 - val_loss: 0.1958 - val_accuracy: 0.9500\n",
      "Epoch 16/20\n",
      "54/54 [==============================] - 0s 1ms/step - loss: 0.1735 - accuracy: 0.9832 - val_loss: 0.1686 - val_accuracy: 0.9667\n",
      "Epoch 17/20\n",
      "54/54 [==============================] - 0s 1ms/step - loss: 0.1541 - accuracy: 0.9907 - val_loss: 0.1565 - val_accuracy: 0.9667\n",
      "Epoch 18/20\n",
      "54/54 [==============================] - 0s 2ms/step - loss: 0.1364 - accuracy: 0.9981 - val_loss: 0.1471 - val_accuracy: 0.9667\n",
      "Epoch 19/20\n",
      "54/54 [==============================] - 0s 2ms/step - loss: 0.1222 - accuracy: 0.9981 - val_loss: 0.1303 - val_accuracy: 0.9667\n",
      "Epoch 20/20\n",
      "54/54 [==============================] - 0s 1ms/step - loss: 0.1090 - accuracy: 0.9981 - val_loss: 0.1186 - val_accuracy: 0.9667\n"
     ]
    }
   ],
   "source": [
    "history = model_2.fit(x_train, y_train, epochs=20, batch_size=10, validation_split=0.10) # train the model"
   ]
  },
  {
   "cell_type": "code",
   "execution_count": 93,
   "id": "d350e141-fa04-4c17-b0c3-ba691569af28",
   "metadata": {},
   "outputs": [
    {
     "data": {
      "image/png": "[encoded data removed]",
      "text/plain": [
       "<Figure size 720x360 with 2 Axes>"
      ]
     },
     "metadata": {
      "needs_background": "light"
     },
     "output_type": "display_data"
    }
   ],
   "source": [
    "acc = history.history['accuracy'] # extract accuracy of every epoch\n",
    "val_acc = history.history['val_accuracy'] # extract validation_accuracy of every epoch\n",
    "loss = history.history['loss'] # extract loss of every epoch\n",
    "val_loss = history.history['val_loss'] # extract validation_loss of every epoch\n",
    "\n",
    "epochs = range(1, len(acc)+1)\n",
    "\n",
    "# plot results\n",
    "plt.figure(figsize=(10,5))\n",
    "plt.subplot(1,2,1)\n",
    "plt.plot(epochs, loss, 'bo', label='Training loss')\n",
    "plt.plot(epochs, val_loss, 'b', label='Validation loss')\n",
    "plt.title('Training and validation loss')\n",
    "plt.xlabel('Epochs')\n",
    "plt.ylabel('Loss')\n",
    "plt.legend()\n",
    "plt.subplot(1,2,2)\n",
    "plt.plot(epochs, acc, 'ro', label='Training accuracy')\n",
    "plt.plot(epochs, val_acc, 'r', label='Validation accuracy')\n",
    "plt.title('Training and validation accuracy')\n",
    "plt.xlabel('Epochs')\n",
    "plt.ylabel('Accuracy')\n",
    "plt.legend()\n",
    "plt.show()"
   ]
  },
  {
   "cell_type": "code",
   "execution_count": 94,
   "id": "efe48a9c-77bf-43a3-9469-e875341c6aa6",
   "metadata": {},
   "outputs": [
    {
     "name": "stdout",
     "output_type": "stream",
     "text": [
      "5/5 [==============================] - 0s 1ms/step\n",
      "99.33333333333333% of samples were classified correctly !\n"
     ]
    }
   ],
   "source": [
    "y_predict = model_2.predict(x_test) # predict test set\n",
    "\n",
    "score = accuracy_score(y_predict.argmax(axis = 1), y_test.argmax(axis = 1)) # get accuracy of testing results\n",
    "\n",
    "print('{}% of samples were classified correctly !'.format(score * 100)) # results"
   ]
  },
  {
   "cell_type": "code",
   "execution_count": 95,
   "id": "6564a935-d313-4868-ac09-6a15848ecfb5",
   "metadata": {},
   "outputs": [],
   "source": [
    "model_2.save(\"model_redes_two_hand.h5\") # save model"
   ]
  }
 ],
 "metadata": {
  "kernelspec": {
   "display_name": "Python 3 (ipykernel)",
   "language": "python",
   "name": "python3"
  },
  "language_info": {
   "codemirror_mode": {
    "name": "ipython",
    "version": 3
   },
   "file_extension": ".py",
   "mimetype": "text/x-python",
   "name": "python",
   "nbconvert_exporter": "python",
   "pygments_lexer": "ipython3",
   "version": "3.9.7"
  }
 },
 "nbformat": 4,
 "nbformat_minor": 5
}
