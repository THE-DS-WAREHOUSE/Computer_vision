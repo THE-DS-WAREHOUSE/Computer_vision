{
 "cells": [
  {
   "cell_type": "code",
   "execution_count": 1,
   "id": "4bb2e738-57f1-4650-ba24-0f9ff0034959",
   "metadata": {},
   "outputs": [],
   "source": [
    "from scipy.spatial.distance import euclidean\n",
    "from imutils import perspective\n",
    "from imutils import contours\n",
    "import numpy as np\n",
    "import imutils\n",
    "import cv2\n",
    "import time"
   ]
  },
  {
   "cell_type": "code",
   "execution_count": 2,
   "id": "07ce7d44-df81-4ec0-80e4-bd41be0cbd5e",
   "metadata": {},
   "outputs": [],
   "source": [
    "# camera Module 0 for integrated webacm (PC camera)\n",
    "# camera Module 1 for GoPro camera"
   ]
  },
  {
   "cell_type": "code",
   "execution_count": 2,
   "id": "9af85d15-6617-4eda-9206-204cd52a38cf",
   "metadata": {},
   "outputs": [],
   "source": [
    "cap = cv2.VideoCapture(2)\n",
    "while cap.isOpened():\n",
    "    ret, frame = cap.read()\n",
    "    if frame is None:\n",
    "        print(\"maiu\")\n",
    "    else:\n",
    "        cv2.imshow(\"final_result\" , frame)\n",
    "        if cv2.waitKey(1) & 0xFF == ord('q'):\n",
    "            break\n",
    "cap.release()\n",
    "cv2.destroyAllWindows()"
   ]
  },
  {
   "cell_type": "code",
   "execution_count": null,
   "id": "8f7c6c9c-1ffa-4a10-98b5-2e62b7b1b163",
   "metadata": {},
   "outputs": [],
   "source": [
    "cap = cv2.VideoCapture(1)\n",
    "time.sleep(10)\n",
    "while cap.isOpened():\n",
    "    ret, frame = cap.read()\n",
    "    if frame is None:\n",
    "        print(\"Failed\")\n",
    "    else:\n",
    "        gray_image = cv2.cvtColor(frame, cv2.COLOR_BGR2GRAY)\n",
    "        blured_image = cv2.GaussianBlur(gray_image, (15, 15), 0)\n",
    "        edged = cv2.Canny(blured_image, 50, 100)\n",
    "        edged = cv2.dilate(edged, None, iterations=1)\n",
    "        edged = cv2.erode(edged, None, iterations=1)\n",
    "        cnts = cv2.findContours(edged.copy(), cv2.RETR_EXTERNAL, cv2.CHAIN_APPROX_SIMPLE)\n",
    "        if len(cnts[0]) > 0:\n",
    "            cnts = imutils.grab_contours(cnts)\n",
    "            (cnts, _) = contours.sort_contours(cnts)\n",
    "            cnts = [x for x in cnts if cv2.contourArea(x) > 100]\n",
    "            cv2.drawContours(frame, cnts, -1, (0,255,0), 3)\n",
    "            if len(cnts) > 0:\n",
    "                ref_object = cnts[0]\n",
    "                box = cv2.minAreaRect(ref_object)\n",
    "                box = cv2.boxPoints(box)\n",
    "                box = np.array(box, dtype=\"int\")\n",
    "                box = perspective.order_points(box)\n",
    "                (tl, tr, br, bl) = box\n",
    "                dist_in_pixel = euclidean(tl, tr)\n",
    "                dist_in_cm = 1.5\n",
    "                pixel_per_cm = dist_in_pixel/dist_in_cm\n",
    "                for cnt in cnts:\n",
    "                    box = cv2.minAreaRect(cnt)\n",
    "                    box = cv2.boxPoints(box)\n",
    "                    box = np.array(box, dtype=\"int\")\n",
    "                    box = perspective.order_points(box)\n",
    "                    (tl, tr, br, bl) = box\n",
    "                    cv2.drawContours(frame, [box.astype(\"int\")], -1, (0, 0, 255), 2)\n",
    "                    mid_pt_horizontal = (tl[0] + int(abs(tr[0] - tl[0])/2), tl[1] + int(abs(tr[1] - tl[1])/2))\n",
    "                    mid_pt_verticle = (tr[0] + int(abs(tr[0] - br[0])/2), tr[1] + int(abs(tr[1] - br[1])/2))\n",
    "                    wid = euclidean(tl, tr)/pixel_per_cm\n",
    "                    ht = euclidean(tr, br)/pixel_per_cm\n",
    "                    cv2.putText(frame, \"{:.1f}cm\".format(wid), (int(mid_pt_horizontal[0] - 15), int(mid_pt_horizontal[1] - 10)), \n",
    "                        cv2.FONT_HERSHEY_SIMPLEX, 0.5, (255, 255, 0), 2)\n",
    "                    cv2.putText(frame, \"{:.1f}cm\".format(ht), (int(mid_pt_verticle[0] + 10), int(mid_pt_verticle[1])), \n",
    "                        cv2.FONT_HERSHEY_SIMPLEX, 0.5, (255, 255, 0), 2)\n",
    "                cv2.imshow(\"final_result\" , frame)\n",
    "    if cv2.waitKey(1) & 0xFF == ord('q'):\n",
    "        break\n",
    "\n",
    "cap.release()\n",
    "cv2.destroyAllWindows()"
   ]
  },
  {
   "cell_type": "code",
   "execution_count": null,
   "id": "e35dab2d-826e-4a09-b733-1f7f2ee924be",
   "metadata": {},
   "outputs": [],
   "source": [
    "img_path = \"example_02.jpg\"\n",
    "\n",
    "# Read image and preprocess\n",
    "image = cv2.imread(img_path)\n",
    "cv2.imshow(\"image_loaded\" , image)\n",
    "cv2.waitKey(0)\n",
    "cv2.destroyAllWindows()"
   ]
  },
  {
   "cell_type": "code",
   "execution_count": null,
   "id": "8bd2661e-74d8-470e-aac9-bc1f8a7e7533",
   "metadata": {},
   "outputs": [],
   "source": [
    "gray_image = cv2.cvtColor(image, cv2.COLOR_BGR2GRAY)\n",
    "cv2.imshow(\"image_gray\" , gray_image)\n",
    "cv2.waitKey(0)\n",
    "cv2.destroyAllWindows()"
   ]
  },
  {
   "cell_type": "code",
   "execution_count": null,
   "id": "03119ad7-ee9d-482e-98cd-8da29e60ed5a",
   "metadata": {},
   "outputs": [],
   "source": [
    "blured_image = cv2.GaussianBlur(gray_image, (15, 15), 0) #gaussianBlur only admits odd numbers (as bigger the number, more blur added to the image)\n",
    "cv2.imshow(\"image_blured\" , blured_image)\n",
    "cv2.waitKey(0)\n",
    "cv2.destroyAllWindows()"
   ]
  },
  {
   "cell_type": "code",
   "execution_count": null,
   "id": "04927ff9-d17b-4c6c-a587-33e5f635d605",
   "metadata": {},
   "outputs": [],
   "source": [
    "edged = cv2.Canny(blured_image, 50, 100)\n",
    "cv2.imshow(\"image_edged\" , edged)\n",
    "cv2.waitKey(0)\n",
    "cv2.destroyAllWindows()"
   ]
  },
  {
   "cell_type": "code",
   "execution_count": null,
   "id": "feee4096-7e11-4038-9143-03b5d78cfb1d",
   "metadata": {},
   "outputs": [],
   "source": [
    "edged = cv2.dilate(edged, None, iterations=1)\n",
    "cv2.imshow(\"image_edged_2\" , edged)\n",
    "cv2.waitKey(0)\n",
    "cv2.destroyAllWindows()"
   ]
  },
  {
   "cell_type": "code",
   "execution_count": null,
   "id": "19040c66-6fa2-4861-9ced-948f22106f1b",
   "metadata": {},
   "outputs": [],
   "source": [
    "edged = cv2.erode(edged, None, iterations=1)\n",
    "cv2.imshow(\"image_edged_3\" , edged)\n",
    "cv2.waitKey(0)\n",
    "cv2.destroyAllWindows()"
   ]
  },
  {
   "cell_type": "code",
   "execution_count": null,
   "id": "f183d8ce-860d-45db-8e68-38803b750db2",
   "metadata": {},
   "outputs": [],
   "source": [
    "cnts = cv2.findContours(edged.copy(), cv2.RETR_EXTERNAL, cv2.CHAIN_APPROX_SIMPLE)"
   ]
  },
  {
   "cell_type": "code",
   "execution_count": null,
   "id": "90329cd8-ac15-43d5-9cab-057f1231ef2f",
   "metadata": {},
   "outputs": [],
   "source": [
    "# Find contours\n",
    "cnts = cv2.findContours(edged.copy(), cv2.RETR_EXTERNAL, cv2.CHAIN_APPROX_SIMPLE)\n",
    "cnts = imutils.grab_contours(cnts)"
   ]
  },
  {
   "cell_type": "code",
   "execution_count": null,
   "id": "b0c9e054-116b-4ec6-add7-be9fb1a5e348",
   "metadata": {},
   "outputs": [],
   "source": [
    "# Sort contours from left to right as leftmost contour is reference object\n",
    "(cnts, _) = contours.sort_contours(cnts)"
   ]
  },
  {
   "cell_type": "code",
   "execution_count": null,
   "id": "14ae16be-0898-4717-a9e7-f1a8bf65bf4b",
   "metadata": {},
   "outputs": [],
   "source": [
    "# Remove contours which are not large enough\n",
    "cnts = [x for x in cnts if cv2.contourArea(x) > 100]"
   ]
  },
  {
   "cell_type": "code",
   "execution_count": null,
   "id": "1ec69f1b-e690-43a9-9dac-96947f30613f",
   "metadata": {},
   "outputs": [],
   "source": [
    "cv2.drawContours(image, cnts, -1, (0,255,0), 3)"
   ]
  },
  {
   "cell_type": "code",
   "execution_count": null,
   "id": "9fae8428-f1d6-464c-b451-f2fa233bb6de",
   "metadata": {},
   "outputs": [],
   "source": [
    "# Reference object dimensions\n",
    "# Here for reference I have used a 2cm x 2cm square\n",
    "ref_object = cnts[0]\n",
    "box = cv2.minAreaRect(ref_object)\n",
    "box = cv2.boxPoints(box)\n",
    "box = np.array(box, dtype=\"int\")\n",
    "box = perspective.order_points(box)\n",
    "(tl, tr, br, bl) = box\n",
    "dist_in_pixel = euclidean(tl, tr)\n",
    "dist_in_cm = 2\n",
    "pixel_per_cm = dist_in_pixel/dist_in_cm"
   ]
  },
  {
   "cell_type": "code",
   "execution_count": null,
   "id": "ae49359a-d37d-4a4d-9554-a6d066662680",
   "metadata": {},
   "outputs": [],
   "source": [
    "# Draw remaining contours\n",
    "for cnt in cnts:\n",
    "\tbox = cv2.minAreaRect(cnt)\n",
    "\tbox = cv2.boxPoints(box)\n",
    "\tbox = np.array(box, dtype=\"int\")\n",
    "\tbox = perspective.order_points(box)\n",
    "\t(tl, tr, br, bl) = box\n",
    "\tcv2.drawContours(image, [box.astype(\"int\")], -1, (0, 0, 255), 2)\n",
    "\tmid_pt_horizontal = (tl[0] + int(abs(tr[0] - tl[0])/2), tl[1] + int(abs(tr[1] - tl[1])/2))\n",
    "\tmid_pt_verticle = (tr[0] + int(abs(tr[0] - br[0])/2), tr[1] + int(abs(tr[1] - br[1])/2))\n",
    "\twid = euclidean(tl, tr)/pixel_per_cm\n",
    "\tht = euclidean(tr, br)/pixel_per_cm\n",
    "\tcv2.putText(image, \"{:.1f}cm\".format(wid), (int(mid_pt_horizontal[0] - 15), int(mid_pt_horizontal[1] - 10)), \n",
    "\t\tcv2.FONT_HERSHEY_SIMPLEX, 0.5, (255, 255, 0), 2)\n",
    "\tcv2.putText(image, \"{:.1f}cm\".format(ht), (int(mid_pt_verticle[0] + 10), int(mid_pt_verticle[1])), \n",
    "\t\tcv2.FONT_HERSHEY_SIMPLEX, 0.5, (255, 255, 0), 2)"
   ]
  },
  {
   "cell_type": "code",
   "execution_count": null,
   "id": "99ccd6b5-247c-45b7-8cd4-0eed9c6ec5c8",
   "metadata": {},
   "outputs": [],
   "source": [
    "cv2.imshow(\"final_result\" , image)\n",
    "cv2.waitKey(0)\n",
    "cv2.destroyAllWindows()"
   ]
  }
 ],
 "metadata": {
  "kernelspec": {
   "display_name": "Python 3 (ipykernel)",
   "language": "python",
   "name": "python3"
  },
  "language_info": {
   "codemirror_mode": {
    "name": "ipython",
    "version": 3
   },
   "file_extension": ".py",
   "mimetype": "text/x-python",
   "name": "python",
   "nbconvert_exporter": "python",
   "pygments_lexer": "ipython3",
   "version": "3.9.7"
  }
 },
 "nbformat": 4,
 "nbformat_minor": 5
}
