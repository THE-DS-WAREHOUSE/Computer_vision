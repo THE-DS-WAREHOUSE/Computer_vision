{
 "cells": [
  {
   "cell_type": "code",
   "execution_count": 1,
   "id": "e8b6eb3c-4ef1-42ad-bfcd-1f214bc2a82c",
   "metadata": {},
   "outputs": [],
   "source": [
    "import pickle\n",
    "import joblib as jbl\n",
    "from sklearn.model_selection import train_test_split\n",
    "from sklearn.metrics import accuracy_score\n",
    "import numpy as np\n",
    "import matplotlib.pyplot as plt\n",
    "import tensorflow as tf\n",
    "from tensorflow import keras\n",
    "import pandas as pd\n",
    "from tensorflow.keras.models import Model, Sequential, load_model, save_model\n",
    "from tensorflow.keras.layers import Input, Conv2D, Flatten, Dense, Dropout, MaxPooling2D\n",
    "from tensorflow.keras import optimizers\n",
    "from tensorflow.keras.utils import to_categorical, plot_model, model_to_dot"
   ]
  },
  {
   "cell_type": "code",
   "execution_count": 2,
   "id": "de381859-2439-4970-b5fc-ced53dd49973",
   "metadata": {},
   "outputs": [],
   "source": [
    "data_dict = pickle.load(open('C:/Users/Jose/Desktop/data.pickle', 'rb'))\n",
    "\n",
    "data = data_dict['data']\n",
    "labels = np.asarray(data_dict['labels'])"
   ]
  },
  {
   "cell_type": "code",
   "execution_count": 3,
   "id": "c6c6beff-669c-4842-9844-313406e48b1c",
   "metadata": {},
   "outputs": [],
   "source": [
    "labels_dict = {0: 'A', 1: 'B', 2: 'C', 3: 'D', 4: 'E',\n",
    "               5: 'G', 6: 'H', 7: 'I', 8: 'J',\n",
    "               9: 'K', 10: 'L', 11: 'M', 12: 'N',\n",
    "               13: 'O', 14: 'P',\n",
    "               15: 'R', 16: 'S', 17: 'T', 18: 'U',\n",
    "               19: 'V', 20: 'W', 21: 'Y',\n",
    "               22: 'Z'}"
   ]
  },
  {
   "cell_type": "code",
   "execution_count": 4,
   "id": "ea8272e5-b580-4b2d-9d2b-4ba077ac5239",
   "metadata": {},
   "outputs": [],
   "source": [
    "resultados = pd.DataFrame({\"data\": data, \"labels\": labels})"
   ]
  },
  {
   "cell_type": "code",
   "execution_count": 5,
   "id": "e68464c5-33d7-48d6-a6e4-95b2f3372621",
   "metadata": {},
   "outputs": [
    {
     "data": {
      "text/html": [
       "<div>\n",
       "<style scoped>\n",
       "    .dataframe tbody tr th:only-of-type {\n",
       "        vertical-align: middle;\n",
       "    }\n",
       "\n",
       "    .dataframe tbody tr th {\n",
       "        vertical-align: top;\n",
       "    }\n",
       "\n",
       "    .dataframe thead th {\n",
       "        text-align: right;\n",
       "    }\n",
       "</style>\n",
       "<table border=\"1\" class=\"dataframe\">\n",
       "  <thead>\n",
       "    <tr style=\"text-align: right;\">\n",
       "      <th></th>\n",
       "      <th>data</th>\n",
       "    </tr>\n",
       "    <tr>\n",
       "      <th>labels</th>\n",
       "      <th></th>\n",
       "    </tr>\n",
       "  </thead>\n",
       "  <tbody>\n",
       "    <tr>\n",
       "      <th>A</th>\n",
       "      <td>149</td>\n",
       "    </tr>\n",
       "    <tr>\n",
       "      <th>B</th>\n",
       "      <td>184</td>\n",
       "    </tr>\n",
       "    <tr>\n",
       "      <th>C</th>\n",
       "      <td>116</td>\n",
       "    </tr>\n",
       "    <tr>\n",
       "      <th>D</th>\n",
       "      <td>200</td>\n",
       "    </tr>\n",
       "    <tr>\n",
       "      <th>E</th>\n",
       "      <td>172</td>\n",
       "    </tr>\n",
       "    <tr>\n",
       "      <th>G</th>\n",
       "      <td>135</td>\n",
       "    </tr>\n",
       "    <tr>\n",
       "      <th>H</th>\n",
       "      <td>200</td>\n",
       "    </tr>\n",
       "    <tr>\n",
       "      <th>I</th>\n",
       "      <td>133</td>\n",
       "    </tr>\n",
       "    <tr>\n",
       "      <th>J</th>\n",
       "      <td>200</td>\n",
       "    </tr>\n",
       "    <tr>\n",
       "      <th>K</th>\n",
       "      <td>200</td>\n",
       "    </tr>\n",
       "    <tr>\n",
       "      <th>L</th>\n",
       "      <td>140</td>\n",
       "    </tr>\n",
       "    <tr>\n",
       "      <th>M</th>\n",
       "      <td>200</td>\n",
       "    </tr>\n",
       "    <tr>\n",
       "      <th>N</th>\n",
       "      <td>169</td>\n",
       "    </tr>\n",
       "    <tr>\n",
       "      <th>O</th>\n",
       "      <td>200</td>\n",
       "    </tr>\n",
       "    <tr>\n",
       "      <th>P</th>\n",
       "      <td>195</td>\n",
       "    </tr>\n",
       "    <tr>\n",
       "      <th>R</th>\n",
       "      <td>200</td>\n",
       "    </tr>\n",
       "    <tr>\n",
       "      <th>S</th>\n",
       "      <td>200</td>\n",
       "    </tr>\n",
       "    <tr>\n",
       "      <th>T</th>\n",
       "      <td>200</td>\n",
       "    </tr>\n",
       "    <tr>\n",
       "      <th>U</th>\n",
       "      <td>46</td>\n",
       "    </tr>\n",
       "    <tr>\n",
       "      <th>V</th>\n",
       "      <td>111</td>\n",
       "    </tr>\n",
       "    <tr>\n",
       "      <th>W</th>\n",
       "      <td>84</td>\n",
       "    </tr>\n",
       "    <tr>\n",
       "      <th>Y</th>\n",
       "      <td>200</td>\n",
       "    </tr>\n",
       "    <tr>\n",
       "      <th>Z</th>\n",
       "      <td>200</td>\n",
       "    </tr>\n",
       "  </tbody>\n",
       "</table>\n",
       "</div>"
      ],
      "text/plain": [
       "        data\n",
       "labels      \n",
       "A        149\n",
       "B        184\n",
       "C        116\n",
       "D        200\n",
       "E        172\n",
       "G        135\n",
       "H        200\n",
       "I        133\n",
       "J        200\n",
       "K        200\n",
       "L        140\n",
       "M        200\n",
       "N        169\n",
       "O        200\n",
       "P        195\n",
       "R        200\n",
       "S        200\n",
       "T        200\n",
       "U         46\n",
       "V        111\n",
       "W         84\n",
       "Y        200\n",
       "Z        200"
      ]
     },
     "execution_count": 5,
     "metadata": {},
     "output_type": "execute_result"
    }
   ],
   "source": [
    "resultados.groupby(\"labels\").count()"
   ]
  },
  {
   "cell_type": "code",
   "execution_count": 6,
   "id": "4cd477f2-294a-4c6e-8dc6-611a2ea25278",
   "metadata": {},
   "outputs": [
    {
     "data": {
      "text/plain": [
       "data    3834\n",
       "dtype: int64"
      ]
     },
     "execution_count": 6,
     "metadata": {},
     "output_type": "execute_result"
    }
   ],
   "source": [
    "resultados.groupby(\"labels\").count().sum()"
   ]
  },
  {
   "cell_type": "code",
   "execution_count": 7,
   "id": "64351dd7-63e7-4fda-a95c-b793eb2167e7",
   "metadata": {},
   "outputs": [],
   "source": [
    "data_dict_2 = pickle.load(open('C:/Users/Jose/Desktop/data_dos_manos.pickle', 'rb'))\n",
    "\n",
    "data_2 = data_dict_2['data']\n",
    "labels_2 = np.asarray(data_dict_2['labels'])"
   ]
  },
  {
   "cell_type": "code",
   "execution_count": 8,
   "id": "34cf8c1a-adf1-4091-9a2a-5989dc07a27f",
   "metadata": {},
   "outputs": [],
   "source": [
    "resultados_2 = pd.DataFrame({\"data\": data_2, \"labels\": labels_2})"
   ]
  },
  {
   "cell_type": "code",
   "execution_count": 9,
   "id": "95c71102-0f8a-4193-b64a-423176476487",
   "metadata": {},
   "outputs": [
    {
     "data": {
      "text/html": [
       "<div>\n",
       "<style scoped>\n",
       "    .dataframe tbody tr th:only-of-type {\n",
       "        vertical-align: middle;\n",
       "    }\n",
       "\n",
       "    .dataframe tbody tr th {\n",
       "        vertical-align: top;\n",
       "    }\n",
       "\n",
       "    .dataframe thead th {\n",
       "        text-align: right;\n",
       "    }\n",
       "</style>\n",
       "<table border=\"1\" class=\"dataframe\">\n",
       "  <thead>\n",
       "    <tr style=\"text-align: right;\">\n",
       "      <th></th>\n",
       "      <th>data</th>\n",
       "    </tr>\n",
       "    <tr>\n",
       "      <th>labels</th>\n",
       "      <th></th>\n",
       "    </tr>\n",
       "  </thead>\n",
       "  <tbody>\n",
       "    <tr>\n",
       "      <th>Enie</th>\n",
       "      <td>126</td>\n",
       "    </tr>\n",
       "    <tr>\n",
       "      <th>F</th>\n",
       "      <td>216</td>\n",
       "    </tr>\n",
       "    <tr>\n",
       "      <th>Q</th>\n",
       "      <td>98</td>\n",
       "    </tr>\n",
       "    <tr>\n",
       "      <th>X</th>\n",
       "      <td>307</td>\n",
       "    </tr>\n",
       "  </tbody>\n",
       "</table>\n",
       "</div>"
      ],
      "text/plain": [
       "        data\n",
       "labels      \n",
       "Enie     126\n",
       "F        216\n",
       "Q         98\n",
       "X        307"
      ]
     },
     "execution_count": 9,
     "metadata": {},
     "output_type": "execute_result"
    }
   ],
   "source": [
    "resultados_2.groupby(\"labels\").count()"
   ]
  },
  {
   "cell_type": "code",
   "execution_count": 10,
   "id": "8477cd8b-995a-4b8e-b7c3-d8e0bbe99db2",
   "metadata": {},
   "outputs": [
    {
     "data": {
      "text/plain": [
       "data    747\n",
       "dtype: int64"
      ]
     },
     "execution_count": 10,
     "metadata": {},
     "output_type": "execute_result"
    }
   ],
   "source": [
    "resultados_2.groupby(\"labels\").count().sum()"
   ]
  }
 ],
 "metadata": {
  "kernelspec": {
   "display_name": "Python 3 (ipykernel)",
   "language": "python",
   "name": "python3"
  },
  "language_info": {
   "codemirror_mode": {
    "name": "ipython",
    "version": 3
   },
   "file_extension": ".py",
   "mimetype": "text/x-python",
   "name": "python",
   "nbconvert_exporter": "python",
   "pygments_lexer": "ipython3",
   "version": "3.9.7"
  }
 },
 "nbformat": 4,
 "nbformat_minor": 5
}
